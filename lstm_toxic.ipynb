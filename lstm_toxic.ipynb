{
  "nbformat": 4,
  "nbformat_minor": 0,
  "metadata": {
    "colab": {
      "name": "cnn_toxic.ipynb",
      "provenance": [],
      "mount_file_id": "1k73BvaRaAFCTf-10kd011V4LViFz3sEj",
      "authorship_tag": "ABX9TyM8IuuP4fnJjzVz3/8nPR1T",
      "include_colab_link": true
    },
    "kernelspec": {
      "name": "python3",
      "display_name": "Python 3"
    },
    "language_info": {
      "name": "python"
    },
    "accelerator": "GPU"
  },
  "cells": [
    {
      "cell_type": "markdown",
      "metadata": {
        "id": "view-in-github",
        "colab_type": "text"
      },
      "source": [
        "<a href=\"https://colab.research.google.com/github/shubhambadaya/toxic_comment_classification_using_lstm/blob/main/lstm_toxic.ipynb\" target=\"_parent\"><img src=\"https://colab.research.google.com/assets/colab-badge.svg\" alt=\"Open In Colab\"/></a>"
      ]
    },
    {
      "cell_type": "code",
      "metadata": {
        "id": "ZcokdTKWgkvR"
      },
      "source": [
        "!pip install -U -q kaggle\n",
        "!mkdir -p ~/.kaggle"
      ],
      "execution_count": null,
      "outputs": []
    },
    {
      "cell_type": "code",
      "metadata": {
        "id": "0Qrj68iBiQAl"
      },
      "source": [
        "#copy kaggle json file\n",
        "!cp /content/drive/MyDrive/kaggle.json ~/.kaggle/\n"
      ],
      "execution_count": null,
      "outputs": []
    },
    {
      "cell_type": "code",
      "metadata": {
        "colab": {
          "base_uri": "https://localhost:8080/"
        },
        "id": "RNZjTMCEifen",
        "outputId": "919327d6-3b69-4166-b514-a0c1f717454e"
      },
      "source": [
        "!kaggle -v"
      ],
      "execution_count": null,
      "outputs": [
        {
          "output_type": "stream",
          "name": "stdout",
          "text": [
            "Kaggle API 1.5.4\n"
          ]
        }
      ]
    },
    {
      "cell_type": "code",
      "metadata": {
        "colab": {
          "base_uri": "https://localhost:8080/"
        },
        "id": "Wt9U3saYhaDB",
        "outputId": "b8cc47c6-3168-4ea4-a3e1-c4926d8344e7"
      },
      "source": [
        "#download toxic dataset\n",
        "!kaggle competitions download -c jigsaw-toxic-comment-classification-challenge"
      ],
      "execution_count": null,
      "outputs": [
        {
          "output_type": "stream",
          "name": "stdout",
          "text": [
            "Warning: Looks like you're using an outdated API Version, please consider updating (server 1.5.12 / client 1.5.4)\n",
            "Downloading train.csv.zip to /content\n",
            " 76% 20.0M/26.3M [00:00<00:00, 65.2MB/s]\n",
            "100% 26.3M/26.3M [00:00<00:00, 103MB/s] \n",
            "Downloading test.csv.zip to /content\n",
            " 90% 21.0M/23.4M [00:00<00:00, 66.0MB/s]\n",
            "100% 23.4M/23.4M [00:00<00:00, 115MB/s] \n",
            "Downloading sample_submission.csv.zip to /content\n",
            "  0% 0.00/1.39M [00:00<?, ?B/s]\n",
            "100% 1.39M/1.39M [00:00<00:00, 94.9MB/s]\n",
            "Downloading test_labels.csv.zip to /content\n",
            "  0% 0.00/1.46M [00:00<?, ?B/s]\n",
            "100% 1.46M/1.46M [00:00<00:00, 98.1MB/s]\n"
          ]
        }
      ]
    },
    {
      "cell_type": "code",
      "metadata": {
        "colab": {
          "base_uri": "https://localhost:8080/"
        },
        "id": "6X9fDojEjhsB",
        "outputId": "5872b66c-0544-4245-e397-35cab93fc83f"
      },
      "source": [
        "!unzip train.csv.zip"
      ],
      "execution_count": null,
      "outputs": [
        {
          "output_type": "stream",
          "name": "stdout",
          "text": [
            "Archive:  train.csv.zip\n",
            "  inflating: train.csv               \n"
          ]
        }
      ]
    },
    {
      "cell_type": "code",
      "metadata": {
        "colab": {
          "base_uri": "https://localhost:8080/"
        },
        "id": "JpetXWYDjshL",
        "outputId": "165a1654-003a-4a2f-ca2b-8cf3c650403c"
      },
      "source": [
        "!head train.csv"
      ],
      "execution_count": null,
      "outputs": [
        {
          "output_type": "stream",
          "name": "stdout",
          "text": [
            "\"id\",\"comment_text\",\"toxic\",\"severe_toxic\",\"obscene\",\"threat\",\"insult\",\"identity_hate\"\n",
            "\"0000997932d777bf\",\"Explanation\n",
            "Why the edits made under my username Hardcore Metallica Fan were reverted? They weren't vandalisms, just closure on some GAs after I voted at New York Dolls FAC. And please don't remove the template from the talk page since I'm retired now.89.205.38.27\",0,0,0,0,0,0\n",
            "\"000103f0d9cfb60f\",\"D'aww! He matches this background colour I'm seemingly stuck with. Thanks.  (talk) 21:51, January 11, 2016 (UTC)\",0,0,0,0,0,0\n",
            "\"000113f07ec002fd\",\"Hey man, I'm really not trying to edit war. It's just that this guy is constantly removing relevant information and talking to me through edits instead of my talk page. He seems to care more about the formatting than the actual info.\",0,0,0,0,0,0\n",
            "\"0001b41b1c6bb37e\",\"\"\"\n",
            "More\n",
            "I can't make any real suggestions on improvement - I wondered if the section statistics should be later on, or a subsection of \"\"\"\"types of accidents\"\"\"\"  -I think the references may need tidying so that they are all in the exact same format ie date format etc. I can do that later on, if no-one else does first - if you have any preferences for formatting style on references or want to do it yourself please let me know.\n",
            "\n",
            "There appears to be a backlog on articles for review so I guess there may be a delay until a reviewer turns up. It's listed in the relevant form eg Wikipedia:Good_article_nominations#Transport  \"\"\",0,0,0,0,0,0\n"
          ]
        }
      ]
    },
    {
      "cell_type": "code",
      "metadata": {
        "id": "5s6JRAbJgOFi"
      },
      "source": [
        "from __future__ import print_function, division\n",
        "from builtins import range\n",
        "# Note: you may need to update your version of future\n",
        "# sudo pip install -U future\n"
      ],
      "execution_count": null,
      "outputs": []
    },
    {
      "cell_type": "code",
      "metadata": {
        "id": "EszUN1HQjqTG"
      },
      "source": [
        "import os\n",
        "import sys\n",
        "import numpy as np\n",
        "import pandas as pd\n",
        "import matplotlib.pyplot as plt\n",
        "from keras.preprocessing.text import Tokenizer\n",
        "from keras.preprocessing.sequence import pad_sequences\n",
        "from keras.layers import Dense, Input, GlobalMaxPooling1D\n",
        "from keras.layers import Conv1D, MaxPooling1D, Embedding\n",
        "from keras.models import Model\n",
        "from sklearn.metrics import roc_auc_score"
      ],
      "execution_count": null,
      "outputs": []
    },
    {
      "cell_type": "code",
      "metadata": {
        "id": "0C4fD8t4kHcS"
      },
      "source": [
        "# Download the data:\n",
        "# https://www.kaggle.com/c/jigsaw-toxic-comment-classification-challenge\n",
        "# Download the word vectors:\n",
        "# http://nlp.stanford.edu/data/glove.6B.zip"
      ],
      "execution_count": null,
      "outputs": []
    },
    {
      "cell_type": "code",
      "metadata": {
        "id": "nlzWegvXg0RI"
      },
      "source": [
        "# some configuration\n",
        "MAX_SEQUENCE_LENGTH = 100\n",
        "MAX_VOCAB_SIZE = 20000\n",
        "EMBEDDING_DIM = 100\n",
        "VALIDATION_SPLIT = 0.2\n",
        "BATCH_SIZE = 128\n",
        "EPOCHS = 10\n"
      ],
      "execution_count": null,
      "outputs": []
    },
    {
      "cell_type": "markdown",
      "metadata": {
        "id": "Z2ZFc4cuj2Pz"
      },
      "source": [
        "load in pre-trained word vectors\n",
        "\n"
      ]
    },
    {
      "cell_type": "code",
      "metadata": {
        "colab": {
          "base_uri": "https://localhost:8080/"
        },
        "id": "FZHatzRpo-YO",
        "outputId": "0e2c4a61-c9eb-4800-d818-3a92b9d5e249"
      },
      "source": [
        "print('Loading word vectors...')\n",
        "word2vec = {}\n",
        "#/content/drive/MyDrive/glove.6B.100d.txt\n",
        "with open(os.path.join('/content/drive/MyDrive/glove.6B.%sd.txt' % EMBEDDING_DIM)) as f:\n",
        "  # is just a space-separated text file in the format:\n",
        "  # word vec[0] vec[1] vec[2] ...\n",
        "  for line in f:\n",
        "    values = line.split()\n",
        "    word = values[0]\n",
        "    vec = np.asarray(values[1:], dtype='float32')\n",
        "    word2vec[word] = vec\n",
        "print('Found %s word vectors.' % len(word2vec))"
      ],
      "execution_count": null,
      "outputs": [
        {
          "output_type": "stream",
          "name": "stdout",
          "text": [
            "Loading word vectors...\n",
            "Found 400000 word vectors.\n"
          ]
        }
      ]
    },
    {
      "cell_type": "markdown",
      "metadata": {
        "id": "dd8DC8iXkgav"
      },
      "source": [
        "prepare text samples and their labels"
      ]
    },
    {
      "cell_type": "code",
      "metadata": {
        "colab": {
          "base_uri": "https://localhost:8080/"
        },
        "id": "0fdPJ9zpjboC",
        "outputId": "d70038a4-0251-442b-d3e0-524fbf2d9040"
      },
      "source": [
        "print('Loading in comments...')\n",
        "\n",
        "train = pd.read_csv(\"../content/train.csv\")\n",
        "sentences = train[\"comment_text\"].fillna(\"DUMMY_VALUE\").values\n",
        "possible_labels = [\"toxic\", \"severe_toxic\", \"obscene\", \"threat\", \"insult\", \"identity_hate\"]\n",
        "targets = train[possible_labels].values"
      ],
      "execution_count": null,
      "outputs": [
        {
          "output_type": "stream",
          "name": "stdout",
          "text": [
            "Loading in comments...\n"
          ]
        }
      ]
    },
    {
      "cell_type": "code",
      "metadata": {
        "colab": {
          "base_uri": "https://localhost:8080/"
        },
        "id": "a1spepidkvTJ",
        "outputId": "191fcaa7-8a68-447c-a772-f5f02e207018"
      },
      "source": [
        "print(sentences.shape)\n",
        "print(targets.shape)"
      ],
      "execution_count": null,
      "outputs": [
        {
          "output_type": "stream",
          "name": "stdout",
          "text": [
            "(159571,)\n",
            "(159571, 6)\n"
          ]
        }
      ]
    },
    {
      "cell_type": "code",
      "metadata": {
        "colab": {
          "base_uri": "https://localhost:8080/"
        },
        "id": "M8rzFYj4k7b6",
        "outputId": "45e9c030-cd45-4dfc-b420-12ec81fcf29d"
      },
      "source": [
        "print(\"max sequence length:\", max(len(s) for s in sentences))\n",
        "print(\"min sequence length:\", min(len(s) for s in sentences))\n",
        "s = sorted(len(s) for s in sentences)\n",
        "print(\"median sequence length:\", s[len(s) // 2])"
      ],
      "execution_count": null,
      "outputs": [
        {
          "output_type": "stream",
          "name": "stdout",
          "text": [
            "max sequence length: 5000\n",
            "min sequence length: 6\n",
            "median sequence length: 205\n"
          ]
        }
      ]
    },
    {
      "cell_type": "code",
      "metadata": {
        "colab": {
          "base_uri": "https://localhost:8080/"
        },
        "id": "qUEDqNlMlVyz",
        "outputId": "f6de3171-5bf9-49e6-986e-9874108f4d8e"
      },
      "source": [
        "# convert the sentences (strings) into integers\n",
        "tokenizer = Tokenizer(num_words=MAX_VOCAB_SIZE)\n",
        "tokenizer.fit_on_texts(sentences)\n",
        "sequences = tokenizer.texts_to_sequences(sentences)\n",
        "# print(\"sequences:\", sequences); exit()\n",
        "\n",
        "\n",
        "print(\"max sequence length:\", max(len(s) for s in sequences))\n",
        "print(\"min sequence length:\", min(len(s) for s in sequences))\n",
        "s = sorted(len(s) for s in sequences)\n",
        "print(\"median sequence length:\", s[len(s) // 2])\n",
        "\n",
        "print(\"max word index:\", max(max(seq) for seq in sequences if len(seq) > 0))"
      ],
      "execution_count": null,
      "outputs": [
        {
          "output_type": "stream",
          "name": "stdout",
          "text": [
            "max sequence length: 1400\n",
            "min sequence length: 0\n",
            "median sequence length: 35\n",
            "max word index: 19999\n"
          ]
        }
      ]
    },
    {
      "cell_type": "code",
      "metadata": {
        "colab": {
          "base_uri": "https://localhost:8080/"
        },
        "id": "VrOqjxAIrDJ8",
        "outputId": "5563fc5d-b963-4a49-e481-ba5d2b35ca63"
      },
      "source": [
        "# get word -> integer mapping\n",
        "word2idx = tokenizer.word_index\n",
        "print('Found %s unique tokens.' % len(word2idx))"
      ],
      "execution_count": null,
      "outputs": [
        {
          "output_type": "stream",
          "name": "stdout",
          "text": [
            "Found 210337 unique tokens.\n"
          ]
        }
      ]
    },
    {
      "cell_type": "code",
      "metadata": {
        "colab": {
          "base_uri": "https://localhost:8080/"
        },
        "id": "MSei4VtNrSnd",
        "outputId": "6d7e1ac5-040f-402d-8812-920a4ab6bfac"
      },
      "source": [
        "# pad sequences so that we get a N x T matrix\n",
        "data = pad_sequences(sequences, maxlen=MAX_SEQUENCE_LENGTH)\n",
        "print('Shape of data tensor:', data.shape)"
      ],
      "execution_count": null,
      "outputs": [
        {
          "output_type": "stream",
          "name": "stdout",
          "text": [
            "Shape of data tensor: (159571, 100)\n"
          ]
        }
      ]
    },
    {
      "cell_type": "code",
      "metadata": {
        "colab": {
          "base_uri": "https://localhost:8080/"
        },
        "id": "Y5EUGSJ2rcxt",
        "outputId": "e0a71afa-e576-4dcc-d85b-05c68725f880"
      },
      "source": [
        "# prepare embedding matrix\n",
        "print('Filling pre-trained embeddings...')\n",
        "num_words = min(MAX_VOCAB_SIZE, len(word2idx) + 1)\n",
        "embedding_matrix = np.zeros((num_words, EMBEDDING_DIM))\n",
        "for word, i in word2idx.items():\n",
        "  if i < MAX_VOCAB_SIZE:\n",
        "    embedding_vector = word2vec.get(word)\n",
        "    if embedding_vector is not None:\n",
        "      # words not found in embedding index will be all zeros.\n",
        "      embedding_matrix[i] = embedding_vector"
      ],
      "execution_count": null,
      "outputs": [
        {
          "output_type": "stream",
          "name": "stdout",
          "text": [
            "Filling pre-trained embeddings...\n"
          ]
        }
      ]
    },
    {
      "cell_type": "code",
      "metadata": {
        "id": "4J2CqDJjrzkD"
      },
      "source": [
        "embedding_layer = Embedding(\n",
        "  num_words,\n",
        "  EMBEDDING_DIM,\n",
        "  weights=[embedding_matrix],\n",
        "  input_length=MAX_SEQUENCE_LENGTH,\n",
        "  trainable=False\n",
        ")"
      ],
      "execution_count": null,
      "outputs": []
    },
    {
      "cell_type": "code",
      "metadata": {
        "colab": {
          "base_uri": "https://localhost:8080/"
        },
        "id": "TFQ8LalYr5E0",
        "outputId": "1e7ae672-8149-4a49-9712-989665d8540e"
      },
      "source": [
        "print('Building model...')\n",
        "\n",
        "# train a 1D convnet with global maxpooling\n",
        "input_ = Input(shape=(MAX_SEQUENCE_LENGTH,))\n",
        "x = embedding_layer(input_)\n",
        "x = Conv1D(128, 3, activation='relu')(x)\n",
        "x = MaxPooling1D(3)(x)\n",
        "x = Conv1D(128, 3, activation='relu')(x)\n",
        "x = MaxPooling1D(3)(x)\n",
        "x = Conv1D(128, 3, activation='relu')(x)\n",
        "x = GlobalMaxPooling1D()(x)\n",
        "x = Dense(128, activation='relu')(x)\n",
        "output = Dense(len(possible_labels), activation='sigmoid')(x)\n",
        "\n",
        "model = Model(input_, output)\n",
        "model.compile(\n",
        "  loss='binary_crossentropy',\n",
        "  optimizer='rmsprop',\n",
        "  metrics=['accuracy']\n",
        ")\n",
        "\n",
        "print('Training model...')\n",
        "r = model.fit(\n",
        "  data,\n",
        "  targets,\n",
        "  batch_size=BATCH_SIZE,\n",
        "  epochs=EPOCHS,\n",
        "  validation_split=VALIDATION_SPLIT\n",
        ")"
      ],
      "execution_count": null,
      "outputs": [
        {
          "output_type": "stream",
          "name": "stdout",
          "text": [
            "Building model...\n",
            "Training model...\n",
            "Epoch 1/10\n",
            "998/998 [==============================] - 28s 14ms/step - loss: 0.0839 - accuracy: 0.9758 - val_loss: 0.0771 - val_accuracy: 0.9941\n",
            "Epoch 2/10\n",
            "998/998 [==============================] - 13s 13ms/step - loss: 0.0676 - accuracy: 0.9927 - val_loss: 0.0892 - val_accuracy: 0.9941\n",
            "Epoch 3/10\n",
            "998/998 [==============================] - 14s 14ms/step - loss: 0.0629 - accuracy: 0.9924 - val_loss: 0.0756 - val_accuracy: 0.9941\n",
            "Epoch 4/10\n",
            "998/998 [==============================] - 14s 14ms/step - loss: 0.0597 - accuracy: 0.9930 - val_loss: 0.0700 - val_accuracy: 0.9848\n",
            "Epoch 5/10\n",
            "998/998 [==============================] - 14s 14ms/step - loss: 0.0572 - accuracy: 0.9935 - val_loss: 0.0716 - val_accuracy: 0.9938\n",
            "Epoch 6/10\n",
            "998/998 [==============================] - 14s 14ms/step - loss: 0.0553 - accuracy: 0.9937 - val_loss: 0.0767 - val_accuracy: 0.9937\n",
            "Epoch 7/10\n",
            "998/998 [==============================] - 14s 14ms/step - loss: 0.0540 - accuracy: 0.9937 - val_loss: 0.0754 - val_accuracy: 0.9938\n",
            "Epoch 8/10\n",
            "998/998 [==============================] - 14s 14ms/step - loss: 0.0522 - accuracy: 0.9935 - val_loss: 0.0818 - val_accuracy: 0.9936\n",
            "Epoch 9/10\n",
            "998/998 [==============================] - 14s 14ms/step - loss: 0.0509 - accuracy: 0.9933 - val_loss: 0.0780 - val_accuracy: 0.9941\n",
            "Epoch 10/10\n",
            "998/998 [==============================] - 14s 14ms/step - loss: 0.0495 - accuracy: 0.9931 - val_loss: 0.1032 - val_accuracy: 0.9918\n"
          ]
        }
      ]
    },
    {
      "cell_type": "code",
      "metadata": {
        "colab": {
          "base_uri": "https://localhost:8080/",
          "height": 534
        },
        "id": "JH7RaGAhyBgZ",
        "outputId": "14e2b515-d5bf-4062-d1e8-f022fe688c43"
      },
      "source": [
        "# plot some data\n",
        "plt.plot(r.history['loss'], label='loss')\n",
        "plt.plot(r.history['val_loss'], label='val_loss')\n",
        "plt.legend()\n",
        "plt.show()\n",
        "\n",
        "# accuracies\n",
        "plt.plot(r.history['accuracy'], label='acc')\n",
        "plt.plot(r.history['val_accuracy'], label='val_acc')\n",
        "plt.legend()\n",
        "plt.show()\n",
        "\n",
        "# plot the mean AUC over each label\n",
        "p = model.predict(data)\n",
        "aucs = []\n",
        "for j in range(6):\n",
        "    auc = roc_auc_score(targets[:,j], p[:,j])\n",
        "    aucs.append(auc)\n",
        "print(np.mean(aucs))\n"
      ],
      "execution_count": null,
      "outputs": [
        {
          "output_type": "display_data",
          "data": {
            "image/png": "[encoded data removed]",
            "text/plain": [
              "<Figure size 432x288 with 1 Axes>"
            ]
          },
          "metadata": {
            "needs_background": "light"
          }
        },
        {
          "output_type": "display_data",
          "data": {
            "image/png": "[encoded data removed]",
            "text/plain": [
              "<Figure size 432x288 with 1 Axes>"
            ]
          },
          "metadata": {
            "needs_background": "light"
          }
        },
        {
          "output_type": "stream",
          "name": "stdout",
          "text": [
            "0.975805863700396\n"
          ]
        }
      ]
    },
    {
      "cell_type": "markdown",
      "metadata": {
        "id": "zO0oH9bc2Q9p"
      },
      "source": [
        "###embedding layer without pretrained word embedding"
      ]
    },
    {
      "cell_type": "code",
      "metadata": {
        "id": "Rd5TyqvL0elO"
      },
      "source": [
        "embedding_layer = Embedding(\n",
        "  num_words,\n",
        "  EMBEDDING_DIM,\n",
        "  #weights=[embedding_matrix],\n",
        "  input_length=MAX_SEQUENCE_LENGTH,\n",
        "  #trainable=False\n",
        ")"
      ],
      "execution_count": null,
      "outputs": []
    },
    {
      "cell_type": "code",
      "metadata": {
        "colab": {
          "base_uri": "https://localhost:8080/"
        },
        "id": "AUry-Nq50X6k",
        "outputId": "abf6ee11-e78f-48f2-af43-3b6ac4ef9b00"
      },
      "source": [
        "print('Building model without pretrained word embeddings')\n",
        "\n",
        "# train a 1D convnet with global maxpooling\n",
        "input_ = Input(shape=(MAX_SEQUENCE_LENGTH,))\n",
        "x = embedding_layer(input_)\n",
        "x = Conv1D(128, 3, activation='relu')(x)\n",
        "x = MaxPooling1D(3)(x)\n",
        "x = Conv1D(128, 3, activation='relu')(x)\n",
        "x = MaxPooling1D(3)(x)\n",
        "x = Conv1D(128, 3, activation='relu')(x)\n",
        "x = GlobalMaxPooling1D()(x)\n",
        "x = Dense(128, activation='relu')(x)\n",
        "output = Dense(len(possible_labels), activation='sigmoid')(x)\n",
        "\n",
        "model = Model(input_, output)\n",
        "model.compile(\n",
        "  loss='binary_crossentropy',\n",
        "  optimizer='rmsprop',\n",
        "  metrics=['accuracy']\n",
        ")\n",
        "\n",
        "print('Training model...')\n",
        "r = model.fit(\n",
        "  data,\n",
        "  targets,\n",
        "  batch_size=BATCH_SIZE,\n",
        "  epochs=EPOCHS,\n",
        "  validation_split=VALIDATION_SPLIT\n",
        ")"
      ],
      "execution_count": null,
      "outputs": [
        {
          "output_type": "stream",
          "name": "stdout",
          "text": [
            "Building model without pretrained word embeddings\n",
            "Training model...\n",
            "Epoch 1/10\n",
            "998/998 [==============================] - 18s 17ms/step - loss: 0.0826 - accuracy: 0.9852 - val_loss: 0.0738 - val_accuracy: 0.9941\n",
            "Epoch 2/10\n",
            "998/998 [==============================] - 17s 17ms/step - loss: 0.0625 - accuracy: 0.9936 - val_loss: 0.1003 - val_accuracy: 0.9940\n",
            "Epoch 3/10\n",
            "998/998 [==============================] - 17s 17ms/step - loss: 0.0590 - accuracy: 0.9933 - val_loss: 0.0650 - val_accuracy: 0.9934\n",
            "Epoch 4/10\n",
            "998/998 [==============================] - 17s 17ms/step - loss: 0.0558 - accuracy: 0.9931 - val_loss: 0.0640 - val_accuracy: 0.9922\n",
            "Epoch 5/10\n",
            "998/998 [==============================] - 17s 17ms/step - loss: 0.0529 - accuracy: 0.9929 - val_loss: 0.0673 - val_accuracy: 0.9924\n",
            "Epoch 6/10\n",
            "998/998 [==============================] - 17s 17ms/step - loss: 0.0500 - accuracy: 0.9931 - val_loss: 0.0732 - val_accuracy: 0.9938\n",
            "Epoch 7/10\n",
            "998/998 [==============================] - 17s 17ms/step - loss: 0.0472 - accuracy: 0.9912 - val_loss: 0.0713 - val_accuracy: 0.9926\n",
            "Epoch 8/10\n",
            "998/998 [==============================] - 16s 16ms/step - loss: 0.0442 - accuracy: 0.9903 - val_loss: 0.0729 - val_accuracy: 0.9930\n",
            "Epoch 9/10\n",
            "998/998 [==============================] - 16s 16ms/step - loss: 0.0413 - accuracy: 0.9911 - val_loss: 0.0842 - val_accuracy: 0.9931\n",
            "Epoch 10/10\n",
            "998/998 [==============================] - 17s 17ms/step - loss: 0.0388 - accuracy: 0.9887 - val_loss: 0.0897 - val_accuracy: 0.9886\n"
          ]
        }
      ]
    },
    {
      "cell_type": "code",
      "metadata": {
        "colab": {
          "base_uri": "https://localhost:8080/",
          "height": 530
        },
        "id": "KNWVYf9s1aCq",
        "outputId": "1300d539-e49d-44e0-d549-a24b6d0a6ec8"
      },
      "source": [
        "# plot some data\n",
        "plt.plot(r.history['loss'], label='loss')\n",
        "plt.plot(r.history['val_loss'], label='val_loss')\n",
        "plt.legend()\n",
        "plt.show()\n",
        "\n",
        "# accuracies\n",
        "plt.plot(r.history['accuracy'], label='acc')\n",
        "plt.plot(r.history['val_accuracy'], label='val_acc')\n",
        "plt.legend()\n",
        "plt.show()\n",
        "\n",
        "# plot the mean AUC over each label\n",
        "p = model.predict(data)\n",
        "aucs = []\n",
        "for j in range(6):\n",
        "    auc = roc_auc_score(targets[:,j], p[:,j])\n",
        "    aucs.append(auc)\n",
        "print(np.mean(aucs))"
      ],
      "execution_count": null,
      "outputs": [
        {
          "output_type": "display_data",
          "data": {
            "image/png": "[encoded data removed]",
            "text/plain": [
              "<Figure size 432x288 with 1 Axes>"
            ]
          },
          "metadata": {
            "needs_background": "light"
          }
        },
        {
          "output_type": "display_data",
          "data": {
            "image/png": "[encoded data removed]",
            "text/plain": [
              "<Figure size 432x288 with 1 Axes>"
            ]
          },
          "metadata": {
            "needs_background": "light"
          }
        },
        {
          "output_type": "stream",
          "name": "stdout",
          "text": [
            "0.9791297567686225\n"
          ]
        }
      ]
    }
  ]
}